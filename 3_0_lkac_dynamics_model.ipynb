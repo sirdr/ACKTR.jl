{
  "nbformat": 4,
  "nbformat_minor": 0,
  "metadata": {
    "colab": {
      "name": "3.0-lkac-dynamics-model.ipynb",
      "provenance": [],
      "authorship_tag": "ABX9TyPEaW6Q0dyeOqRTTPGP0rbL",
      "include_colab_link": true
    },
    "kernelspec": {
      "name": "python3",
      "display_name": "Python 3"
    }
  },
  "cells": [
    {
      "cell_type": "markdown",
      "metadata": {
        "id": "view-in-github",
        "colab_type": "text"
      },
      "source": [
        "<a href=\"https://colab.research.google.com/github/sirdr/ACKTR.jl/blob/master/3_0_lkac_dynamics_model.ipynb\" target=\"_parent\"><img src=\"https://colab.research.google.com/assets/colab-badge.svg\" alt=\"Open In Colab\"/></a>"
      ]
    },
    {
      "cell_type": "code",
      "metadata": {
        "id": "Zso-enQOIaCf",
        "colab_type": "code",
        "colab": {}
      },
      "source": [
        "import pandas as pd\n",
        "import os\n",
        "import numpy as np\n",
        "import math\n",
        "import scipy.interpolate as interp\n",
        "import scipy.optimize as opt\n",
        "import matplotlib.pyplot as plt\n",
        "from sklearn.svm import SVR\n",
        "from sklearn.pipeline import make_pipeline\n",
        "from sklearn.preprocessing import StandardScaler\n",
        "from sklearn.preprocessing import MinMaxScaler\n",
        "import datetime\n",
        "from sklearn.model_selection import train_test_split\n",
        "from sklearn.model_selection import cross_val_score\n",
        "from sklearn.neural_network import MLPRegressor\n",
        "from sklearn.metrics import r2_score\n",
        "from sklearn.metrics import mean_squared_error\n",
        "from sklearn.metrics import make_scorer\n",
        "import tensorflow as tf\n",
        "from tensorflow import keras\n",
        "import progressbar"
      ],
      "execution_count": 1,
      "outputs": []
    },
    {
      "cell_type": "code",
      "metadata": {
        "id": "KHzbM84VI0Ld",
        "colab_type": "code",
        "colab": {
          "base_uri": "https://localhost:8080/",
          "height": 122
        },
        "outputId": "a69be912-dd41-48f8-d80b-07e55d84f288"
      },
      "source": [
        "# run for Colab (Drive)\n",
        "\n",
        "from google.colab import drive\n",
        "\n",
        "drive.mount('/content/gdrive')"
      ],
      "execution_count": 2,
      "outputs": [
        {
          "output_type": "stream",
          "text": [
            "Go to this URL in a browser: https://accounts.google.com/o/oauth2/auth?client_id=947318989803-6bn6qk8qdgf4n4g3pfee6491hc0brc4i.apps.googleusercontent.com&redirect_uri=urn%3aietf%3awg%3aoauth%3a2.0%3aoob&response_type=code&scope=email%20https%3a%2f%2fwww.googleapis.com%2fauth%2fdocs.test%20https%3a%2f%2fwww.googleapis.com%2fauth%2fdrive%20https%3a%2f%2fwww.googleapis.com%2fauth%2fdrive.photos.readonly%20https%3a%2f%2fwww.googleapis.com%2fauth%2fpeopleapi.readonly\n",
            "\n",
            "Enter your authorization code:\n",
            "··········\n",
            "Mounted at /content/gdrive\n"
          ],
          "name": "stdout"
        }
      ]
    },
    {
      "cell_type": "code",
      "metadata": {
        "id": "cM1f0Vm9IxKc",
        "colab_type": "code",
        "colab": {}
      },
      "source": [
        "files = ['Fisher-051220.csv', 'Fisher-051420.csv', 'Fisher-051820.csv', 'Fisher-052720.csv', 'Fisher-061220.csv']\n",
        "data_dir = '/content/gdrive/My Drive/Melonfrost/Science/Project Maia/Experiments/Data/Dev/Wiki/'\n",
        "dframe_dict = {}\n",
        "for f in files:\n",
        "    data_path = os.path.join(data_dir, f)\n",
        "    dframe = pd.read_csv(data_path, index_col=0)\n",
        "    exp = f.split('-')[-1].split('.')[0]\n",
        "    exp_col = [exp for _ in range(len(dframe.index))]\n",
        "    dframe[\"Experiment\"] = exp_col\n",
        "    dframe_dict[exp] = dframe"
      ],
      "execution_count": 3,
      "outputs": []
    },
    {
      "cell_type": "code",
      "metadata": {
        "id": "pzCPm9BVNPut",
        "colab_type": "code",
        "colab": {}
      },
      "source": [
        "dframes_list = [frame for i, frame in dframe_dict.items()]"
      ],
      "execution_count": 4,
      "outputs": []
    },
    {
      "cell_type": "code",
      "metadata": {
        "id": "n6YAu2FTNcgE",
        "colab_type": "code",
        "colab": {}
      },
      "source": [
        "final_frame = pd.concat(dframes_list, ignore_index=True)"
      ],
      "execution_count": 5,
      "outputs": []
    },
    {
      "cell_type": "code",
      "metadata": {
        "id": "wD4JSHQWNnwE",
        "colab_type": "code",
        "colab": {
          "base_uri": "https://localhost:8080/",
          "height": 638
        },
        "outputId": "a5fad107-2441-4090-ecbe-6704a0e3dd1d"
      },
      "source": [
        "final_frame[(final_frame[\"Experiment\"] == \"052720\") & (final_frame[\"Done\"] == 1)]"
      ],
      "execution_count": 175,
      "outputs": [
        {
          "output_type": "execute_result",
          "data": {
            "text/html": [
              "<div>\n",
              "<style scoped>\n",
              "    .dataframe tbody tr th:only-of-type {\n",
              "        vertical-align: middle;\n",
              "    }\n",
              "\n",
              "    .dataframe tbody tr th {\n",
              "        vertical-align: top;\n",
              "    }\n",
              "\n",
              "    .dataframe thead th {\n",
              "        text-align: right;\n",
              "    }\n",
              "</style>\n",
              "<table border=\"1\" class=\"dataframe\">\n",
              "  <thead>\n",
              "    <tr style=\"text-align: right;\">\n",
              "      <th></th>\n",
              "      <th>Posix</th>\n",
              "      <th>Optical Density High Power</th>\n",
              "      <th>Culture Temperature</th>\n",
              "      <th>Stirring Speed</th>\n",
              "      <th>LED Intensity</th>\n",
              "      <th>Done</th>\n",
              "      <th>Trajectory</th>\n",
              "      <th>Valve 1 Setting</th>\n",
              "      <th>Growth Rate</th>\n",
              "      <th>Params</th>\n",
              "      <th>Growth Fit</th>\n",
              "      <th>Experiment</th>\n",
              "    </tr>\n",
              "  </thead>\n",
              "  <tbody>\n",
              "    <tr>\n",
              "      <th>20385</th>\n",
              "      <td>1.590595e+09</td>\n",
              "      <td>1.01548</td>\n",
              "      <td>26.840000</td>\n",
              "      <td>300.0</td>\n",
              "      <td>2000.00</td>\n",
              "      <td>1.0</td>\n",
              "      <td>0.0</td>\n",
              "      <td>1.0</td>\n",
              "      <td>0.000034</td>\n",
              "      <td>6             5             4      ...</td>\n",
              "      <td>0.998356</td>\n",
              "      <td>052720</td>\n",
              "    </tr>\n",
              "    <tr>\n",
              "      <th>21168</th>\n",
              "      <td>1.590620e+09</td>\n",
              "      <td>1.00101</td>\n",
              "      <td>27.468667</td>\n",
              "      <td>300.0</td>\n",
              "      <td>8770.48</td>\n",
              "      <td>1.0</td>\n",
              "      <td>1.0</td>\n",
              "      <td>1.0</td>\n",
              "      <td>0.000006</td>\n",
              "      <td>6            5             4      ...</td>\n",
              "      <td>0.989234</td>\n",
              "      <td>052720</td>\n",
              "    </tr>\n",
              "    <tr>\n",
              "      <th>22771</th>\n",
              "      <td>1.590669e+09</td>\n",
              "      <td>1.00008</td>\n",
              "      <td>27.742759</td>\n",
              "      <td>300.0</td>\n",
              "      <td>8369.99</td>\n",
              "      <td>1.0</td>\n",
              "      <td>2.0</td>\n",
              "      <td>1.0</td>\n",
              "      <td>0.000012</td>\n",
              "      <td>6             5             4     ...</td>\n",
              "      <td>0.993171</td>\n",
              "      <td>052720</td>\n",
              "    </tr>\n",
              "    <tr>\n",
              "      <th>23498</th>\n",
              "      <td>1.590693e+09</td>\n",
              "      <td>1.00288</td>\n",
              "      <td>26.840000</td>\n",
              "      <td>300.0</td>\n",
              "      <td>1969.46</td>\n",
              "      <td>1.0</td>\n",
              "      <td>3.0</td>\n",
              "      <td>1.0</td>\n",
              "      <td>0.000033</td>\n",
              "      <td>6             5             4     ...</td>\n",
              "      <td>0.994354</td>\n",
              "      <td>052720</td>\n",
              "    </tr>\n",
              "    <tr>\n",
              "      <th>24648</th>\n",
              "      <td>1.590728e+09</td>\n",
              "      <td>1.00114</td>\n",
              "      <td>27.793448</td>\n",
              "      <td>300.0</td>\n",
              "      <td>7856.74</td>\n",
              "      <td>1.0</td>\n",
              "      <td>4.0</td>\n",
              "      <td>1.0</td>\n",
              "      <td>0.000015</td>\n",
              "      <td>6             5             4     ...</td>\n",
              "      <td>0.996946</td>\n",
              "      <td>052720</td>\n",
              "    </tr>\n",
              "    <tr>\n",
              "      <th>25433</th>\n",
              "      <td>1.590753e+09</td>\n",
              "      <td>1.00074</td>\n",
              "      <td>27.307333</td>\n",
              "      <td>300.0</td>\n",
              "      <td>4720.80</td>\n",
              "      <td>1.0</td>\n",
              "      <td>5.0</td>\n",
              "      <td>1.0</td>\n",
              "      <td>0.000019</td>\n",
              "      <td>6             5             4     ...</td>\n",
              "      <td>0.996465</td>\n",
              "      <td>052720</td>\n",
              "    </tr>\n",
              "    <tr>\n",
              "      <th>26316</th>\n",
              "      <td>1.590781e+09</td>\n",
              "      <td>1.00035</td>\n",
              "      <td>27.139355</td>\n",
              "      <td>300.0</td>\n",
              "      <td>4151.16</td>\n",
              "      <td>1.0</td>\n",
              "      <td>6.0</td>\n",
              "      <td>1.0</td>\n",
              "      <td>0.000022</td>\n",
              "      <td>6             5             4     ...</td>\n",
              "      <td>0.989356</td>\n",
              "      <td>052720</td>\n",
              "    </tr>\n",
              "    <tr>\n",
              "      <th>27090</th>\n",
              "      <td>1.590805e+09</td>\n",
              "      <td>1.00710</td>\n",
              "      <td>27.136296</td>\n",
              "      <td>300.0</td>\n",
              "      <td>3651.75</td>\n",
              "      <td>1.0</td>\n",
              "      <td>7.0</td>\n",
              "      <td>1.0</td>\n",
              "      <td>0.000028</td>\n",
              "      <td>6             5             4      ...</td>\n",
              "      <td>0.998276</td>\n",
              "      <td>052720</td>\n",
              "    </tr>\n",
              "    <tr>\n",
              "      <th>27933</th>\n",
              "      <td>1.590832e+09</td>\n",
              "      <td>1.00081</td>\n",
              "      <td>27.457000</td>\n",
              "      <td>300.0</td>\n",
              "      <td>4929.00</td>\n",
              "      <td>1.0</td>\n",
              "      <td>8.0</td>\n",
              "      <td>1.0</td>\n",
              "      <td>0.000013</td>\n",
              "      <td>6             5            4      ...</td>\n",
              "      <td>0.992285</td>\n",
              "      <td>052720</td>\n",
              "    </tr>\n",
              "    <tr>\n",
              "      <th>29216</th>\n",
              "      <td>1.590871e+09</td>\n",
              "      <td>1.00744</td>\n",
              "      <td>27.927333</td>\n",
              "      <td>300.0</td>\n",
              "      <td>8836.82</td>\n",
              "      <td>1.0</td>\n",
              "      <td>9.0</td>\n",
              "      <td>1.0</td>\n",
              "      <td>0.000023</td>\n",
              "      <td>6             5             4      ...</td>\n",
              "      <td>0.991449</td>\n",
              "      <td>052720</td>\n",
              "    </tr>\n",
              "    <tr>\n",
              "      <th>30237</th>\n",
              "      <td>1.590903e+09</td>\n",
              "      <td>1.00161</td>\n",
              "      <td>27.405172</td>\n",
              "      <td>300.0</td>\n",
              "      <td>8367.15</td>\n",
              "      <td>1.0</td>\n",
              "      <td>10.0</td>\n",
              "      <td>1.0</td>\n",
              "      <td>0.000019</td>\n",
              "      <td>6             5             4     ...</td>\n",
              "      <td>0.993762</td>\n",
              "      <td>052720</td>\n",
              "    </tr>\n",
              "    <tr>\n",
              "      <th>31074</th>\n",
              "      <td>1.590929e+09</td>\n",
              "      <td>1.00308</td>\n",
              "      <td>27.344545</td>\n",
              "      <td>300.0</td>\n",
              "      <td>5782.87</td>\n",
              "      <td>1.0</td>\n",
              "      <td>11.0</td>\n",
              "      <td>1.0</td>\n",
              "      <td>0.000026</td>\n",
              "      <td>6             5             4     ...</td>\n",
              "      <td>0.998032</td>\n",
              "      <td>052720</td>\n",
              "    </tr>\n",
              "    <tr>\n",
              "      <th>31881</th>\n",
              "      <td>1.590954e+09</td>\n",
              "      <td>1.00068</td>\n",
              "      <td>27.621765</td>\n",
              "      <td>300.0</td>\n",
              "      <td>6218.99</td>\n",
              "      <td>1.0</td>\n",
              "      <td>12.0</td>\n",
              "      <td>1.0</td>\n",
              "      <td>0.000020</td>\n",
              "      <td>6             5             4      ...</td>\n",
              "      <td>0.997981</td>\n",
              "      <td>052720</td>\n",
              "    </tr>\n",
              "    <tr>\n",
              "      <th>32755</th>\n",
              "      <td>1.590982e+09</td>\n",
              "      <td>1.00061</td>\n",
              "      <td>27.671333</td>\n",
              "      <td>300.0</td>\n",
              "      <td>6788.71</td>\n",
              "      <td>1.0</td>\n",
              "      <td>13.0</td>\n",
              "      <td>1.0</td>\n",
              "      <td>0.000021</td>\n",
              "      <td>6             5             4     ...</td>\n",
              "      <td>0.988765</td>\n",
              "      <td>052720</td>\n",
              "    </tr>\n",
              "    <tr>\n",
              "      <th>33558</th>\n",
              "      <td>1.591007e+09</td>\n",
              "      <td>1.00001</td>\n",
              "      <td>27.650000</td>\n",
              "      <td>300.0</td>\n",
              "      <td>6946.79</td>\n",
              "      <td>1.0</td>\n",
              "      <td>14.0</td>\n",
              "      <td>1.0</td>\n",
              "      <td>0.000021</td>\n",
              "      <td>6             5             4      ...</td>\n",
              "      <td>0.996014</td>\n",
              "      <td>052720</td>\n",
              "    </tr>\n",
              "    <tr>\n",
              "      <th>34404</th>\n",
              "      <td>1.591033e+09</td>\n",
              "      <td>1.00247</td>\n",
              "      <td>27.650000</td>\n",
              "      <td>300.0</td>\n",
              "      <td>8427.58</td>\n",
              "      <td>1.0</td>\n",
              "      <td>15.0</td>\n",
              "      <td>1.0</td>\n",
              "      <td>0.000018</td>\n",
              "      <td>6             5             4     ...</td>\n",
              "      <td>0.990181</td>\n",
              "      <td>052720</td>\n",
              "    </tr>\n",
              "    <tr>\n",
              "      <th>35123</th>\n",
              "      <td>1.591055e+09</td>\n",
              "      <td>1.00194</td>\n",
              "      <td>27.490000</td>\n",
              "      <td>300.0</td>\n",
              "      <td>5061.77</td>\n",
              "      <td>1.0</td>\n",
              "      <td>16.0</td>\n",
              "      <td>1.0</td>\n",
              "      <td>0.000028</td>\n",
              "      <td>6             5           4       ...</td>\n",
              "      <td>0.998826</td>\n",
              "      <td>052720</td>\n",
              "    </tr>\n",
              "    <tr>\n",
              "      <th>35941</th>\n",
              "      <td>1.591081e+09</td>\n",
              "      <td>1.00094</td>\n",
              "      <td>27.810000</td>\n",
              "      <td>300.0</td>\n",
              "      <td>7752.08</td>\n",
              "      <td>1.0</td>\n",
              "      <td>17.0</td>\n",
              "      <td>1.0</td>\n",
              "      <td>0.000019</td>\n",
              "      <td>6            5             4      ...</td>\n",
              "      <td>0.994549</td>\n",
              "      <td>052720</td>\n",
              "    </tr>\n",
              "    <tr>\n",
              "      <th>36660</th>\n",
              "      <td>1.591103e+09</td>\n",
              "      <td>1.00960</td>\n",
              "      <td>27.927333</td>\n",
              "      <td>300.0</td>\n",
              "      <td>6368.73</td>\n",
              "      <td>1.0</td>\n",
              "      <td>18.0</td>\n",
              "      <td>1.0</td>\n",
              "      <td>0.000028</td>\n",
              "      <td>6             5             4     ...</td>\n",
              "      <td>0.994225</td>\n",
              "      <td>052720</td>\n",
              "    </tr>\n",
              "  </tbody>\n",
              "</table>\n",
              "</div>"
            ],
            "text/plain": [
              "              Posix  Optical Density High Power  ...  Growth Fit  Experiment\n",
              "20385  1.590595e+09                     1.01548  ...    0.998356      052720\n",
              "21168  1.590620e+09                     1.00101  ...    0.989234      052720\n",
              "22771  1.590669e+09                     1.00008  ...    0.993171      052720\n",
              "23498  1.590693e+09                     1.00288  ...    0.994354      052720\n",
              "24648  1.590728e+09                     1.00114  ...    0.996946      052720\n",
              "25433  1.590753e+09                     1.00074  ...    0.996465      052720\n",
              "26316  1.590781e+09                     1.00035  ...    0.989356      052720\n",
              "27090  1.590805e+09                     1.00710  ...    0.998276      052720\n",
              "27933  1.590832e+09                     1.00081  ...    0.992285      052720\n",
              "29216  1.590871e+09                     1.00744  ...    0.991449      052720\n",
              "30237  1.590903e+09                     1.00161  ...    0.993762      052720\n",
              "31074  1.590929e+09                     1.00308  ...    0.998032      052720\n",
              "31881  1.590954e+09                     1.00068  ...    0.997981      052720\n",
              "32755  1.590982e+09                     1.00061  ...    0.988765      052720\n",
              "33558  1.591007e+09                     1.00001  ...    0.996014      052720\n",
              "34404  1.591033e+09                     1.00247  ...    0.990181      052720\n",
              "35123  1.591055e+09                     1.00194  ...    0.998826      052720\n",
              "35941  1.591081e+09                     1.00094  ...    0.994549      052720\n",
              "36660  1.591103e+09                     1.00960  ...    0.994225      052720\n",
              "\n",
              "[19 rows x 12 columns]"
            ]
          },
          "metadata": {
            "tags": []
          },
          "execution_count": 175
        }
      ]
    },
    {
      "cell_type": "code",
      "metadata": {
        "id": "i1MbUWJpvvjE",
        "colab_type": "code",
        "colab": {
          "base_uri": "https://localhost:8080/",
          "height": 419
        },
        "outputId": "0b1a9e99-2ff6-468d-b241-0d071f188189"
      },
      "source": [
        "final_frame"
      ],
      "execution_count": 140,
      "outputs": [
        {
          "output_type": "execute_result",
          "data": {
            "text/html": [
              "<div>\n",
              "<style scoped>\n",
              "    .dataframe tbody tr th:only-of-type {\n",
              "        vertical-align: middle;\n",
              "    }\n",
              "\n",
              "    .dataframe tbody tr th {\n",
              "        vertical-align: top;\n",
              "    }\n",
              "\n",
              "    .dataframe thead th {\n",
              "        text-align: right;\n",
              "    }\n",
              "</style>\n",
              "<table border=\"1\" class=\"dataframe\">\n",
              "  <thead>\n",
              "    <tr style=\"text-align: right;\">\n",
              "      <th></th>\n",
              "      <th>Posix</th>\n",
              "      <th>Optical Density High Power</th>\n",
              "      <th>Culture Temperature</th>\n",
              "      <th>Stirring Speed</th>\n",
              "      <th>LED Intensity</th>\n",
              "      <th>Done</th>\n",
              "      <th>Trajectory</th>\n",
              "      <th>Valve 1 Setting</th>\n",
              "      <th>Growth Rate</th>\n",
              "      <th>Params</th>\n",
              "      <th>Growth Fit</th>\n",
              "      <th>Experiment</th>\n",
              "    </tr>\n",
              "  </thead>\n",
              "  <tbody>\n",
              "    <tr>\n",
              "      <th>0</th>\n",
              "      <td>1.589335e+09</td>\n",
              "      <td>0.502737</td>\n",
              "      <td>27.650000</td>\n",
              "      <td>300.0</td>\n",
              "      <td>2000.00</td>\n",
              "      <td>0.0</td>\n",
              "      <td>0.0</td>\n",
              "      <td>1.0</td>\n",
              "      <td>0.000022</td>\n",
              "      <td>6             5             4      ...</td>\n",
              "      <td>0.498092</td>\n",
              "      <td>051220</td>\n",
              "    </tr>\n",
              "    <tr>\n",
              "      <th>1</th>\n",
              "      <td>1.589335e+09</td>\n",
              "      <td>0.500463</td>\n",
              "      <td>27.650000</td>\n",
              "      <td>300.0</td>\n",
              "      <td>2000.00</td>\n",
              "      <td>0.0</td>\n",
              "      <td>0.0</td>\n",
              "      <td>1.0</td>\n",
              "      <td>0.000022</td>\n",
              "      <td>6             5             4      ...</td>\n",
              "      <td>0.498760</td>\n",
              "      <td>051220</td>\n",
              "    </tr>\n",
              "    <tr>\n",
              "      <th>2</th>\n",
              "      <td>1.589335e+09</td>\n",
              "      <td>0.500379</td>\n",
              "      <td>27.650000</td>\n",
              "      <td>300.0</td>\n",
              "      <td>2000.00</td>\n",
              "      <td>0.0</td>\n",
              "      <td>0.0</td>\n",
              "      <td>1.0</td>\n",
              "      <td>0.000022</td>\n",
              "      <td>6             5             4      ...</td>\n",
              "      <td>0.499428</td>\n",
              "      <td>051220</td>\n",
              "    </tr>\n",
              "    <tr>\n",
              "      <th>3</th>\n",
              "      <td>1.589335e+09</td>\n",
              "      <td>0.502273</td>\n",
              "      <td>27.650000</td>\n",
              "      <td>300.0</td>\n",
              "      <td>2000.00</td>\n",
              "      <td>0.0</td>\n",
              "      <td>0.0</td>\n",
              "      <td>1.0</td>\n",
              "      <td>0.000022</td>\n",
              "      <td>6             5             4      ...</td>\n",
              "      <td>0.500096</td>\n",
              "      <td>051220</td>\n",
              "    </tr>\n",
              "    <tr>\n",
              "      <th>4</th>\n",
              "      <td>1.589335e+09</td>\n",
              "      <td>0.499268</td>\n",
              "      <td>27.359091</td>\n",
              "      <td>300.0</td>\n",
              "      <td>2000.00</td>\n",
              "      <td>0.0</td>\n",
              "      <td>0.0</td>\n",
              "      <td>1.0</td>\n",
              "      <td>0.000022</td>\n",
              "      <td>6             5             4      ...</td>\n",
              "      <td>0.500853</td>\n",
              "      <td>051220</td>\n",
              "    </tr>\n",
              "    <tr>\n",
              "      <th>...</th>\n",
              "      <td>...</td>\n",
              "      <td>...</td>\n",
              "      <td>...</td>\n",
              "      <td>...</td>\n",
              "      <td>...</td>\n",
              "      <td>...</td>\n",
              "      <td>...</td>\n",
              "      <td>...</td>\n",
              "      <td>...</td>\n",
              "      <td>...</td>\n",
              "      <td>...</td>\n",
              "      <td>...</td>\n",
              "    </tr>\n",
              "    <tr>\n",
              "      <th>47926</th>\n",
              "      <td>1.592237e+09</td>\n",
              "      <td>0.661632</td>\n",
              "      <td>27.177000</td>\n",
              "      <td>300.0</td>\n",
              "      <td>15.51</td>\n",
              "      <td>0.0</td>\n",
              "      <td>8.0</td>\n",
              "      <td>1.0</td>\n",
              "      <td>-0.000002</td>\n",
              "      <td>7             6             5      ...</td>\n",
              "      <td>0.664363</td>\n",
              "      <td>061220</td>\n",
              "    </tr>\n",
              "    <tr>\n",
              "      <th>47927</th>\n",
              "      <td>1.592237e+09</td>\n",
              "      <td>0.671108</td>\n",
              "      <td>27.160000</td>\n",
              "      <td>300.0</td>\n",
              "      <td>15.51</td>\n",
              "      <td>0.0</td>\n",
              "      <td>8.0</td>\n",
              "      <td>1.0</td>\n",
              "      <td>-0.000002</td>\n",
              "      <td>7             6             5      ...</td>\n",
              "      <td>0.664292</td>\n",
              "      <td>061220</td>\n",
              "    </tr>\n",
              "    <tr>\n",
              "      <th>47928</th>\n",
              "      <td>1.592237e+09</td>\n",
              "      <td>0.671450</td>\n",
              "      <td>27.160000</td>\n",
              "      <td>300.0</td>\n",
              "      <td>15.51</td>\n",
              "      <td>0.0</td>\n",
              "      <td>8.0</td>\n",
              "      <td>1.0</td>\n",
              "      <td>-0.000002</td>\n",
              "      <td>7             6             5      ...</td>\n",
              "      <td>0.664221</td>\n",
              "      <td>061220</td>\n",
              "    </tr>\n",
              "    <tr>\n",
              "      <th>47929</th>\n",
              "      <td>1.592238e+09</td>\n",
              "      <td>0.672416</td>\n",
              "      <td>27.313000</td>\n",
              "      <td>300.0</td>\n",
              "      <td>15.51</td>\n",
              "      <td>0.0</td>\n",
              "      <td>8.0</td>\n",
              "      <td>1.0</td>\n",
              "      <td>-0.000002</td>\n",
              "      <td>7             6             5      ...</td>\n",
              "      <td>0.664149</td>\n",
              "      <td>061220</td>\n",
              "    </tr>\n",
              "    <tr>\n",
              "      <th>47930</th>\n",
              "      <td>1.592238e+09</td>\n",
              "      <td>0.663859</td>\n",
              "      <td>27.177000</td>\n",
              "      <td>300.0</td>\n",
              "      <td>15.51</td>\n",
              "      <td>0.0</td>\n",
              "      <td>8.0</td>\n",
              "      <td>1.0</td>\n",
              "      <td>-0.000002</td>\n",
              "      <td>7             6             5      ...</td>\n",
              "      <td>0.664076</td>\n",
              "      <td>061220</td>\n",
              "    </tr>\n",
              "  </tbody>\n",
              "</table>\n",
              "<p>47931 rows × 12 columns</p>\n",
              "</div>"
            ],
            "text/plain": [
              "              Posix  Optical Density High Power  ...  Growth Fit  Experiment\n",
              "0      1.589335e+09                    0.502737  ...    0.498092      051220\n",
              "1      1.589335e+09                    0.500463  ...    0.498760      051220\n",
              "2      1.589335e+09                    0.500379  ...    0.499428      051220\n",
              "3      1.589335e+09                    0.502273  ...    0.500096      051220\n",
              "4      1.589335e+09                    0.499268  ...    0.500853      051220\n",
              "...             ...                         ...  ...         ...         ...\n",
              "47926  1.592237e+09                    0.661632  ...    0.664363      061220\n",
              "47927  1.592237e+09                    0.671108  ...    0.664292      061220\n",
              "47928  1.592237e+09                    0.671450  ...    0.664221      061220\n",
              "47929  1.592238e+09                    0.672416  ...    0.664149      061220\n",
              "47930  1.592238e+09                    0.663859  ...    0.664076      061220\n",
              "\n",
              "[47931 rows x 12 columns]"
            ]
          },
          "metadata": {
            "tags": []
          },
          "execution_count": 140
        }
      ]
    },
    {
      "cell_type": "code",
      "metadata": {
        "id": "rcxGA8KZKOvU",
        "colab_type": "code",
        "colab": {
          "base_uri": "https://localhost:8080/",
          "height": 34
        },
        "outputId": "7593e866-c608-4dfd-8046-a838fa41deb9"
      },
      "source": [
        "columns_to_norm = [\"Optical Density High Power\", \"Culture Temperature\", \"LED Intensity\", \"Growth Rate\"]\n",
        "data_to_norm = final_frame[columns_to_norm].values\n",
        "data_to_norm.shape"
      ],
      "execution_count": 141,
      "outputs": [
        {
          "output_type": "execute_result",
          "data": {
            "text/plain": [
              "(47931, 4)"
            ]
          },
          "metadata": {
            "tags": []
          },
          "execution_count": 141
        }
      ]
    },
    {
      "cell_type": "code",
      "metadata": {
        "id": "TuHlxAzxRKnN",
        "colab_type": "code",
        "colab": {}
      },
      "source": [
        "min_max_scaler = MinMaxScaler()\n",
        "data_normed = min_max_scaler.fit_transform(data_to_norm)"
      ],
      "execution_count": 142,
      "outputs": []
    },
    {
      "cell_type": "code",
      "metadata": {
        "id": "BEH8PxULYrIj",
        "colab_type": "code",
        "colab": {}
      },
      "source": [
        "norm_params = min_max_scaler.get_params()"
      ],
      "execution_count": 51,
      "outputs": []
    },
    {
      "cell_type": "code",
      "metadata": {
        "id": "XYXBaR0CYwor",
        "colab_type": "code",
        "colab": {}
      },
      "source": [
        "data_reg = min_max_scaler.inverse_transform(data_normed)\n"
      ],
      "execution_count": 157,
      "outputs": []
    },
    {
      "cell_type": "code",
      "metadata": {
        "id": "1lh1usrCZANN",
        "colab_type": "code",
        "colab": {
          "base_uri": "https://localhost:8080/",
          "height": 238
        },
        "outputId": "9aa3957a-23da-4187-b9a6-3a0aeb00fc13"
      },
      "source": [
        "data_reg"
      ],
      "execution_count": 158,
      "outputs": [
        {
          "output_type": "execute_result",
          "data": {
            "text/plain": [
              "array([[ 5.02737000e-01,  2.76500000e+01,  2.00000000e+03,\n",
              "         2.22797472e-05],\n",
              "       [ 5.00463000e-01,  2.76500000e+01,  2.00000000e+03,\n",
              "         2.22720488e-05],\n",
              "       [ 5.00379000e-01,  2.76500000e+01,  2.00000000e+03,\n",
              "         2.22641379e-05],\n",
              "       ...,\n",
              "       [ 6.71450000e-01,  2.71600000e+01,  1.55100000e+01,\n",
              "        -2.38710312e-06],\n",
              "       [ 6.72416000e-01,  2.73130000e+01,  1.55100000e+01,\n",
              "        -2.41077849e-06],\n",
              "       [ 6.63859000e-01,  2.71770000e+01,  1.55100000e+01,\n",
              "        -2.43450133e-06]])"
            ]
          },
          "metadata": {
            "tags": []
          },
          "execution_count": 158
        }
      ]
    },
    {
      "cell_type": "code",
      "metadata": {
        "id": "SXLtAfLwXAIv",
        "colab_type": "code",
        "colab": {}
      },
      "source": [
        "final_frame[columns_to_norm] = data_normed"
      ],
      "execution_count": 63,
      "outputs": []
    },
    {
      "cell_type": "code",
      "metadata": {
        "id": "unaaDzVGRs36",
        "colab_type": "code",
        "colab": {
          "base_uri": "https://localhost:8080/",
          "height": 622
        },
        "outputId": "182d5de8-e591-438d-ea44-28978c87bb8d"
      },
      "source": [
        "y = states[:, 0]\n",
        "x = final_frame[\"Posix\"]\n",
        "fig, ax = plt.subplots(1, 1, figsize=(20, 10))\n",
        "ax.scatter(x, y,s=1)\n",
        "ax.scatter(frame_prev.loc[indices, \"Posix\"], np.ones(len(indices)), s=10)\n",
        "#plt.xlim(1.5893*1e9,1.5895*1e9)"
      ],
      "execution_count": 178,
      "outputs": [
        {
          "output_type": "execute_result",
          "data": {
            "text/plain": [
              "<matplotlib.collections.PathCollection at 0x7f30871112e8>"
            ]
          },
          "metadata": {
            "tags": []
          },
          "execution_count": 178
        },
        {
          "output_type": "display_data",
          "data": {
            "image/png": "[encoded data removed]",
            "text/plain": [
              "<Figure size 1440x720 with 1 Axes>"
            ]
          },
          "metadata": {
            "tags": [],
            "needs_background": "light"
          }
        }
      ]
    },
    {
      "cell_type": "code",
      "metadata": {
        "id": "hhnq_iV4J7VC",
        "colab_type": "code",
        "colab": {}
      },
      "source": [
        "def create_training_tuples(frame):\n",
        "    state_cols = [\"Optical Density High Power\", \"Culture Temperature\", \"Growth Rate\"]\n",
        "    action_cols = [\"LED Intensity\"]\n",
        "    states = []\n",
        "    actions = []\n",
        "    next_states = []\n",
        "    frame_copy = frame.copy(deep=True)\n",
        "    states = frame_copy[state_cols]\n",
        "    actions = frame_copy[action_cols]\n",
        "    states\n",
        "    # for index, row in frame.iterrows():\n",
        "    #     state = row.copy(deep=True)[state_cols]\n",
        "    #     action = row.copy(deep=True)[action_cols]\n",
        "    #     next_state = None\n",
        "    #     next_row = frame.loc[index + 1]\n",
        "\n",
        "    #     if index + 1 < len(frame.index):\n",
        "    #         current_t = row[\"Trajectory\"]\n",
        "    #         next_t = next_row[\"Trajectory\"]\n",
        "    #         if (next_t == current_t and next_row[\"Experiment\"] == row[\"Experiment\"]) or (next_t == current_t + 1 and next_row[\"Experiment\"] == row[\"Experiment\"]):\n",
        "    #             next_state = next_row.copy(deep=True)[state_cols]\n",
        "    #     states.append(state)\n",
        "    #     actions.append(actions)\n",
        "    #     next_states.append(next_state)\n",
        "\n",
        "    # new_df = pd.DataFrame([states, actions, next_states], columns=[\"state\", \"action\", \"next_state\"])\n",
        "    # return new_df"
      ],
      "execution_count": 68,
      "outputs": []
    },
    {
      "cell_type": "code",
      "metadata": {
        "id": "Ir3K6pIBfl2y",
        "colab_type": "code",
        "colab": {}
      },
      "source": [
        "time_cols = [\"Posix\"]\n",
        "state_cols = [\"Optical Density High Power\", \"Culture Temperature\", \"Growth Rate\"]\n",
        "action_cols = [\"LED Intensity\"]\n",
        "times = []\n",
        "states = []\n",
        "actions = []\n",
        "next_states = []\n",
        "frame_copy = final_frame.copy(deep=True)\n",
        "# states = [list(v) for v in frame_copy[state_cols].values]\n",
        "# actions = [list(v) for v in frame_copy[action_cols].values]\n",
        "times = frame_copy[time_cols].values\n",
        "states = frame_copy[state_cols].values\n",
        "actions = frame_copy[action_cols].values\n",
        "next_states = frame_copy[state_cols].values[1:]\n",
        "ind_2_keep = np.arange(len(next_states))\n",
        "frame_prev = frame_copy.drop(index = final_frame.index[-1])\n",
        "frame_next = frame_copy.drop(index = final_frame.index[0]).reset_index(drop=True)\n",
        "indices = frame_prev.index[((frame_prev[\"Trajectory\"] != frame_next[\"Trajectory\"]) | (frame_prev[\"Experiment\"] != frame_next[\"Experiment\"])) &  ((frame_prev[\"Trajectory\"] + 1 != frame_next[\"Trajectory\"]) | (frame_prev[\"Experiment\"] != frame_next[\"Experiment\"]))]\n",
        "# for i in indices.to_list():\n",
        "#     next_states[i] = None"
      ],
      "execution_count": 7,
      "outputs": []
    },
    {
      "cell_type": "code",
      "metadata": {
        "id": "m52Am8mn8LZS",
        "colab_type": "code",
        "colab": {
          "base_uri": "https://localhost:8080/",
          "height": 34
        },
        "outputId": "6314fddc-498a-43fc-919f-c98a61d0958c"
      },
      "source": [
        "states[1] - next_states[1]"
      ],
      "execution_count": 433,
      "outputs": [
        {
          "output_type": "execute_result",
          "data": {
            "text/plain": [
              "array([8.4000000e-05, 0.0000000e+00, 7.9109396e-09])"
            ]
          },
          "metadata": {
            "tags": []
          },
          "execution_count": 433
        }
      ]
    },
    {
      "cell_type": "code",
      "metadata": {
        "id": "GzZW9lQU4GZW",
        "colab_type": "code",
        "colab": {}
      },
      "source": [
        "ind_2_keep = np.array([i for i in ind_2_keep if i not in indices])"
      ],
      "execution_count": 8,
      "outputs": []
    },
    {
      "cell_type": "code",
      "metadata": {
        "id": "kzUMdxTN6EUR",
        "colab_type": "code",
        "colab": {}
      },
      "source": [
        "states = states[ind_2_keep]\n",
        "actions = actions[ind_2_keep]\n",
        "next_states = next_states[ind_2_keep]\n",
        "times = times[ind_2_keep]"
      ],
      "execution_count": 9,
      "outputs": []
    },
    {
      "cell_type": "code",
      "metadata": {
        "id": "AD1PSJPx8Rtv",
        "colab_type": "code",
        "colab": {}
      },
      "source": [
        "residual_states = next_states - states"
      ],
      "execution_count": 205,
      "outputs": []
    },
    {
      "cell_type": "code",
      "metadata": {
        "id": "d5co3tLP8oJT",
        "colab_type": "code",
        "colab": {
          "base_uri": "https://localhost:8080/",
          "height": 136
        },
        "outputId": "af2f0264-a57e-46d0-e5f9-074859bb9841"
      },
      "source": [
        "residual_states"
      ],
      "execution_count": 206,
      "outputs": [
        {
          "output_type": "execute_result",
          "data": {
            "text/plain": [
              "array([[-2.27400000e-03,  0.00000000e+00, -7.69844748e-09],\n",
              "       [-8.40000000e-05,  0.00000000e+00, -7.91093960e-09],\n",
              "       [ 1.89400000e-03,  0.00000000e+00, -8.11875921e-09],\n",
              "       ...,\n",
              "       [ 3.42000000e-04,  0.00000000e+00, -2.36275949e-08],\n",
              "       [ 9.66000000e-04,  1.53000000e-01, -2.36753681e-08],\n",
              "       [-8.55700000e-03, -1.36000000e-01, -2.37228392e-08]])"
            ]
          },
          "metadata": {
            "tags": []
          },
          "execution_count": 206
        }
      ]
    },
    {
      "cell_type": "code",
      "metadata": {
        "id": "IZJS5gp29A28",
        "colab_type": "code",
        "colab": {}
      },
      "source": [
        "num_samples = states.shape[0]\n",
        "train_percent = 0.9\n",
        "num_samples_train = round(num_samples*train_percent)\n",
        "num_samples_test = num_samples - num_samples_train"
      ],
      "execution_count": 10,
      "outputs": []
    },
    {
      "cell_type": "code",
      "metadata": {
        "id": "HeUwWPay9Lmp",
        "colab_type": "code",
        "colab": {}
      },
      "source": [
        "state_action_time_total = np.concatenate([states, actions, times], axis=1)"
      ],
      "execution_count": 11,
      "outputs": []
    },
    {
      "cell_type": "code",
      "metadata": {
        "id": "D2YDasRazqkl",
        "colab_type": "code",
        "colab": {}
      },
      "source": [
        "start_test = np.random.randint(low=0, high=num_samples-num_samples_test-1)\n",
        "end_test = start_test + num_samples_test"
      ],
      "execution_count": 58,
      "outputs": []
    },
    {
      "cell_type": "code",
      "metadata": {
        "id": "EJqcRbET1gU2",
        "colab_type": "code",
        "colab": {}
      },
      "source": [
        "indices = np.arange(num_samples)\n",
        "test_indices = indices[start_test:end_test]\n",
        "train_indices = np.concatenate([indices[:start_test],indices[end_test:]])"
      ],
      "execution_count": 59,
      "outputs": []
    },
    {
      "cell_type": "code",
      "metadata": {
        "id": "G-z-6VJ4wFTN",
        "colab_type": "code",
        "colab": {}
      },
      "source": [
        "state_action_time_fit = state_action_time_total[train_indices]\n",
        "next_states_train = next_states[train_indices]\n",
        "state_action_time_test = state_action_time_total[test_indices]\n",
        "next_states_test = next_states[test_indices]"
      ],
      "execution_count": 60,
      "outputs": []
    },
    {
      "cell_type": "code",
      "metadata": {
        "id": "iWkxxiky-7rH",
        "colab_type": "code",
        "colab": {}
      },
      "source": [
        "experiment = {}\n",
        "min_max_scaler_states = MinMaxScaler()\n",
        "min_max_scaler_actions = MinMaxScaler()\n",
        "state_action_time_fit[:, 0:-2] = min_max_scaler_states.fit_transform(state_action_time_fit[:, 0:-2])\n",
        "state_action_time_fit[:,-2] = min_max_scaler_actions.fit_transform(state_action_time_fit[:,-2].reshape(-1, 1))[:, 0]"
      ],
      "execution_count": 61,
      "outputs": []
    },
    {
      "cell_type": "code",
      "metadata": {
        "id": "w2xm1cgsBsAj",
        "colab_type": "code",
        "colab": {}
      },
      "source": [
        "next_states_train = min_max_scaler_states.transform(next_states_train)\n",
        "next_states_test = min_max_scaler_states.transform(next_states_test)"
      ],
      "execution_count": 62,
      "outputs": []
    },
    {
      "cell_type": "code",
      "metadata": {
        "id": "eu9BSE9TCQ3t",
        "colab_type": "code",
        "colab": {}
      },
      "source": [
        "state_action_time_test[:, 0:-2] = min_max_scaler_states.transform(state_action_time_test[:, 0:-2])\n",
        "state_action_time_test[:, -2] = min_max_scaler_actions.transform(state_action_time_test[:,-2].reshape(-1, 1))[:, 0]"
      ],
      "execution_count": 63,
      "outputs": []
    },
    {
      "cell_type": "code",
      "metadata": {
        "id": "xubvQLa_9dlW",
        "colab_type": "code",
        "colab": {}
      },
      "source": [
        "#seed = 7\n",
        "#state_action_time_train, state_action_time_valid, next_states_train, next_states_valid = train_test_split(state_action_time_fit, next_states_fit, test_size = 0.1, random_state = seed)\n",
        "state_action_train = state_action_time_fit[:, 0:-1]\n",
        "#state_action_valid = state_action_time_valid[:, 0:-1]\n",
        "time_train = state_action_time_fit[:, -1]\n",
        "#time_valid = state_action_time_valid[:, -1]"
      ],
      "execution_count": 64,
      "outputs": []
    },
    {
      "cell_type": "code",
      "metadata": {
        "id": "2vfMGtlwAgFy",
        "colab_type": "code",
        "colab": {
          "base_uri": "https://localhost:8080/",
          "height": 232
        },
        "outputId": "cc82d70f-a869-4214-ec41-d5d96619b074"
      },
      "source": [
        "experiment[\"action_fit\"] = min_max_scaler_actions\n",
        "experiment[\"states_fit\"] = min_max_scaler_states\n",
        "experiment[\"seed\"] = seed\n",
        "experiment[\"train\"] = (time_train, state_action_train, next_states_train)\n",
        "experiment[\"test\"] = (time_test, state_action_test, next_states_test)"
      ],
      "execution_count": 17,
      "outputs": [
        {
          "output_type": "error",
          "ename": "NameError",
          "evalue": "ignored",
          "traceback": [
            "\u001b[0;31m---------------------------------------------------------------------------\u001b[0m",
            "\u001b[0;31mNameError\u001b[0m                                 Traceback (most recent call last)",
            "\u001b[0;32m<ipython-input-17-413fe78b265b>\u001b[0m in \u001b[0;36m<module>\u001b[0;34m()\u001b[0m\n\u001b[1;32m      1\u001b[0m \u001b[0mexperiment\u001b[0m\u001b[0;34m[\u001b[0m\u001b[0;34m\"action_fit\"\u001b[0m\u001b[0;34m]\u001b[0m \u001b[0;34m=\u001b[0m \u001b[0mmin_max_scaler_actions\u001b[0m\u001b[0;34m\u001b[0m\u001b[0;34m\u001b[0m\u001b[0m\n\u001b[1;32m      2\u001b[0m \u001b[0mexperiment\u001b[0m\u001b[0;34m[\u001b[0m\u001b[0;34m\"states_fit\"\u001b[0m\u001b[0;34m]\u001b[0m \u001b[0;34m=\u001b[0m \u001b[0mmin_max_scaler_states\u001b[0m\u001b[0;34m\u001b[0m\u001b[0;34m\u001b[0m\u001b[0m\n\u001b[0;32m----> 3\u001b[0;31m \u001b[0mexperiment\u001b[0m\u001b[0;34m[\u001b[0m\u001b[0;34m\"seed\"\u001b[0m\u001b[0;34m]\u001b[0m \u001b[0;34m=\u001b[0m \u001b[0mseed\u001b[0m\u001b[0;34m\u001b[0m\u001b[0;34m\u001b[0m\u001b[0m\n\u001b[0m\u001b[1;32m      4\u001b[0m \u001b[0mexperiment\u001b[0m\u001b[0;34m[\u001b[0m\u001b[0;34m\"train\"\u001b[0m\u001b[0;34m]\u001b[0m \u001b[0;34m=\u001b[0m \u001b[0;34m(\u001b[0m\u001b[0mtime_train\u001b[0m\u001b[0;34m,\u001b[0m \u001b[0mstate_action_train\u001b[0m\u001b[0;34m,\u001b[0m \u001b[0mnext_states_train\u001b[0m\u001b[0;34m)\u001b[0m\u001b[0;34m\u001b[0m\u001b[0;34m\u001b[0m\u001b[0m\n\u001b[1;32m      5\u001b[0m \u001b[0mexperiment\u001b[0m\u001b[0;34m[\u001b[0m\u001b[0;34m\"test\"\u001b[0m\u001b[0;34m]\u001b[0m \u001b[0;34m=\u001b[0m \u001b[0;34m(\u001b[0m\u001b[0mtime_test\u001b[0m\u001b[0;34m,\u001b[0m \u001b[0mstate_action_test\u001b[0m\u001b[0;34m,\u001b[0m \u001b[0mnext_states_test\u001b[0m\u001b[0;34m)\u001b[0m\u001b[0;34m\u001b[0m\u001b[0;34m\u001b[0m\u001b[0m\n",
            "\u001b[0;31mNameError\u001b[0m: name 'seed' is not defined"
          ]
        }
      ]
    },
    {
      "cell_type": "code",
      "metadata": {
        "id": "vPnUs60oCnMQ",
        "colab_type": "code",
        "colab": {}
      },
      "source": [
        "res_states_train = next_states_train - state_action_train[:, 0:-1]"
      ],
      "execution_count": 65,
      "outputs": []
    },
    {
      "cell_type": "code",
      "metadata": {
        "id": "8HNPt-Vm3geF",
        "colab_type": "code",
        "colab": {}
      },
      "source": [
        "state_action_test = state_action_time_test[:, 0:-1]\n",
        "time_test = state_action_time_test[:, -1]"
      ],
      "execution_count": 66,
      "outputs": []
    },
    {
      "cell_type": "code",
      "metadata": {
        "id": "BwnOWRXccpph",
        "colab_type": "code",
        "colab": {
          "base_uri": "https://localhost:8080/",
          "height": 374
        },
        "outputId": "804d369a-3a53-4cea-95a5-853fee7ca42a"
      },
      "source": [
        "initializer = tf.keras.initializers.GlorotUniform(seed=7)\n",
        "model = tf.keras.Sequential()\n",
        "model.add(tf.keras.Input(shape=(state_action_train.shape[-1],)))\n",
        "model.add(tf.keras.layers.Dense(10000, activation='relu', kernel_initializer=initializer))\n",
        "#model.add(tf.keras.layers.Dense(5, activation='relu', kernel_initializer=initializer))\n",
        "model.add(tf.keras.layers.Dense(3, kernel_initializer=initializer))\n",
        "model.compile(optimizer='adam', loss='mse', metrics=[tf.keras.metrics.RootMeanSquaredError()])\n",
        "model.fit(state_action_train, res_states_train, validation_split=0.1, batch_size=100, epochs=10)\n",
        "res_states_test = next_states_test - state_action_test[:, 0:-1]\n",
        "preds = model.predict(state_action_test)\n",
        "m = keras.metrics.MeanSquaredError()\n",
        "r = keras.metrics.RootMeanSquaredError() \n",
        "# m.update_state(preds, next_states_test)\n",
        "# r.update_state(preds, next_states_test)\n",
        "m.update_state(preds, res_states_test)\n",
        "r.update_state(preds, res_states_test)\n",
        "print(\"MSE {} | RMSE {}\".format(m.result().numpy(), r.result().numpy()))"
      ],
      "execution_count": 67,
      "outputs": [
        {
          "output_type": "stream",
          "text": [
            "Epoch 1/10\n",
            "389/389 [==============================] - 5s 14ms/step - loss: 0.0017 - root_mean_squared_error: 0.0411 - val_loss: 0.0013 - val_root_mean_squared_error: 0.0355\n",
            "Epoch 2/10\n",
            "389/389 [==============================] - 5s 13ms/step - loss: 0.0015 - root_mean_squared_error: 0.0383 - val_loss: 0.0014 - val_root_mean_squared_error: 0.0370\n",
            "Epoch 3/10\n",
            "389/389 [==============================] - 5s 12ms/step - loss: 0.0014 - root_mean_squared_error: 0.0379 - val_loss: 0.0015 - val_root_mean_squared_error: 0.0393\n",
            "Epoch 4/10\n",
            "389/389 [==============================] - 5s 12ms/step - loss: 0.0014 - root_mean_squared_error: 0.0377 - val_loss: 0.0014 - val_root_mean_squared_error: 0.0373\n",
            "Epoch 5/10\n",
            "389/389 [==============================] - 5s 12ms/step - loss: 0.0014 - root_mean_squared_error: 0.0376 - val_loss: 0.0015 - val_root_mean_squared_error: 0.0386\n",
            "Epoch 6/10\n",
            "389/389 [==============================] - 5s 12ms/step - loss: 0.0014 - root_mean_squared_error: 0.0374 - val_loss: 0.0013 - val_root_mean_squared_error: 0.0364\n",
            "Epoch 7/10\n",
            "389/389 [==============================] - 4s 12ms/step - loss: 0.0014 - root_mean_squared_error: 0.0375 - val_loss: 0.0012 - val_root_mean_squared_error: 0.0346\n",
            "Epoch 8/10\n",
            "389/389 [==============================] - 4s 11ms/step - loss: 0.0014 - root_mean_squared_error: 0.0375 - val_loss: 0.0014 - val_root_mean_squared_error: 0.0372\n",
            "Epoch 9/10\n",
            "389/389 [==============================] - 4s 12ms/step - loss: 0.0014 - root_mean_squared_error: 0.0374 - val_loss: 0.0015 - val_root_mean_squared_error: 0.0387\n",
            "Epoch 10/10\n",
            "389/389 [==============================] - 4s 11ms/step - loss: 0.0014 - root_mean_squared_error: 0.0373 - val_loss: 0.0013 - val_root_mean_squared_error: 0.0355\n",
            "MSE 0.0007069756393320858 | RMSE 0.026589004322886467\n"
          ],
          "name": "stdout"
        }
      ]
    },
    {
      "cell_type": "code",
      "metadata": {
        "id": "HO1fOmRIBD1o",
        "colab_type": "code",
        "colab": {
          "base_uri": "https://localhost:8080/",
          "height": 34
        },
        "outputId": "5768d75a-dae7-4338-8df8-f47768e570f0"
      },
      "source": [
        "autoreg_limit = 500\n",
        "autoreg_preds = []\n",
        "sa = state_action_test[0][np.newaxis, :]\n",
        "#sa.shape\n",
        "for sa_ in progressbar.progressbar(state_action_test[1:autoreg_limit]):\n",
        "    p = model.predict(sa)\n",
        "    s_p = p+sa[:, :-1]\n",
        "    autoreg_preds.append(s_p)\n",
        "    sa_ = sa_[np.newaxis, :]\n",
        "    sa = np.concatenate([s_p, np.array(sa_[:,-1][None, :])], axis=1)"
      ],
      "execution_count": 68,
      "outputs": [
        {
          "output_type": "stream",
          "text": [
            "100% (499 of 499) |######################| Elapsed Time: 0:00:18 Time:  0:00:18\n"
          ],
          "name": "stderr"
        }
      ]
    },
    {
      "cell_type": "code",
      "metadata": {
        "id": "FRMg-q9AFZ-q",
        "colab_type": "code",
        "colab": {}
      },
      "source": [
        "autoreg_preds_ = np.array(autoreg_preds)[:, 0, :]"
      ],
      "execution_count": 69,
      "outputs": []
    },
    {
      "cell_type": "code",
      "metadata": {
        "id": "gwy3vB9LGBoj",
        "colab_type": "code",
        "colab": {
          "base_uri": "https://localhost:8080/",
          "height": 34
        },
        "outputId": "cf1ada64-82a6-4cc8-ae92-cca5655a727d"
      },
      "source": [
        "np.array(autoreg_preds).shape"
      ],
      "execution_count": 558,
      "outputs": [
        {
          "output_type": "execute_result",
          "data": {
            "text/plain": [
              "(4791, 1, 3)"
            ]
          },
          "metadata": {
            "tags": []
          },
          "execution_count": 558
        }
      ]
    },
    {
      "cell_type": "code",
      "metadata": {
        "id": "3sb8PUfeCBmj",
        "colab_type": "code",
        "colab": {
          "base_uri": "https://localhost:8080/",
          "height": 34
        },
        "outputId": "073de760-5d0b-412a-f44c-82b1e79ed979"
      },
      "source": [
        "sa = state_action_test[0][np.newaxis, :]\n",
        "sa[0][-1]"
      ],
      "execution_count": 487,
      "outputs": [
        {
          "output_type": "execute_result",
          "data": {
            "text/plain": [
              "0.5272855030935737"
            ]
          },
          "metadata": {
            "tags": []
          },
          "execution_count": 487
        }
      ]
    },
    {
      "cell_type": "code",
      "metadata": {
        "id": "5zfHUJZukgDQ",
        "colab_type": "code",
        "colab": {
          "base_uri": "https://localhost:8080/",
          "height": 34
        },
        "outputId": "1ee78c24-baaf-40c4-f8cd-259bde168958"
      },
      "source": [
        "\n",
        "\n",
        "#regr.score(state_action_test, res_states_test)"
      ],
      "execution_count": 355,
      "outputs": [
        {
          "output_type": "stream",
          "text": [
            "MSE 0.0013193772174417973 | RMSE 0.03632323071360588\n"
          ],
          "name": "stdout"
        }
      ]
    },
    {
      "cell_type": "code",
      "metadata": {
        "id": "Srfo7sKMHPTe",
        "colab_type": "code",
        "colab": {
          "base_uri": "https://localhost:8080/",
          "height": 34
        },
        "outputId": "8da0c7dc-205c-4512-b8c2-53e96349a809"
      },
      "source": [
        "#regr = MLPRegressor(random_state=7, max_iter=500).fit(state_action_train, res_states_train)\n",
        "scorer = make_scorer(mean_squared_error, greater_is_better=False)\n",
        "regr = MLPRegressor(random_state=7, max_iter=500)\n",
        "scores = cross_val_score(regr, state_action_train, res_states_train, cv=5, scoring=scorer)\n",
        "scores"
      ],
      "execution_count": 332,
      "outputs": [
        {
          "output_type": "execute_result",
          "data": {
            "text/plain": [
              "array([-0.00147609, -0.0011699 , -0.00134192, -0.00144853, -0.00134607])"
            ]
          },
          "metadata": {
            "tags": []
          },
          "execution_count": 332
        }
      ]
    },
    {
      "cell_type": "code",
      "metadata": {
        "id": "fg3xJxF5UmPf",
        "colab_type": "code",
        "colab": {
          "base_uri": "https://localhost:8080/",
          "height": 341
        },
        "outputId": "0b89a624-4176-40f3-ef30-4ad4be47005c"
      },
      "source": [
        "res_states_test = next_states_test - state_action_test[:, 0:-1]\n",
        "preds = regr.predict(state_action_test)\n",
        "regr.score(state_action_test, res_states_test)"
      ],
      "execution_count": 326,
      "outputs": [
        {
          "output_type": "error",
          "ename": "NotFittedError",
          "evalue": "ignored",
          "traceback": [
            "\u001b[0;31m---------------------------------------------------------------------------\u001b[0m",
            "\u001b[0;31mNotFittedError\u001b[0m                            Traceback (most recent call last)",
            "\u001b[0;32m<ipython-input-326-b4ca30a52e9b>\u001b[0m in \u001b[0;36m<module>\u001b[0;34m()\u001b[0m\n\u001b[1;32m      1\u001b[0m \u001b[0mres_states_test\u001b[0m \u001b[0;34m=\u001b[0m \u001b[0mnext_states_test\u001b[0m \u001b[0;34m-\u001b[0m \u001b[0mstate_action_test\u001b[0m\u001b[0;34m[\u001b[0m\u001b[0;34m:\u001b[0m\u001b[0;34m,\u001b[0m \u001b[0;36m0\u001b[0m\u001b[0;34m:\u001b[0m\u001b[0;34m-\u001b[0m\u001b[0;36m1\u001b[0m\u001b[0;34m]\u001b[0m\u001b[0;34m\u001b[0m\u001b[0;34m\u001b[0m\u001b[0m\n\u001b[0;32m----> 2\u001b[0;31m \u001b[0mpreds\u001b[0m \u001b[0;34m=\u001b[0m \u001b[0mregr\u001b[0m\u001b[0;34m.\u001b[0m\u001b[0mpredict\u001b[0m\u001b[0;34m(\u001b[0m\u001b[0mstate_action_test\u001b[0m\u001b[0;34m)\u001b[0m\u001b[0;34m\u001b[0m\u001b[0;34m\u001b[0m\u001b[0m\n\u001b[0m\u001b[1;32m      3\u001b[0m \u001b[0mregr\u001b[0m\u001b[0;34m.\u001b[0m\u001b[0mscore\u001b[0m\u001b[0;34m(\u001b[0m\u001b[0mstate_action_test\u001b[0m\u001b[0;34m,\u001b[0m \u001b[0mres_states_test\u001b[0m\u001b[0;34m)\u001b[0m\u001b[0;34m\u001b[0m\u001b[0;34m\u001b[0m\u001b[0m\n",
            "\u001b[0;32m/usr/local/lib/python3.6/dist-packages/sklearn/neural_network/_multilayer_perceptron.py\u001b[0m in \u001b[0;36mpredict\u001b[0;34m(self, X)\u001b[0m\n\u001b[1;32m   1330\u001b[0m             \u001b[0mThe\u001b[0m \u001b[0mpredicted\u001b[0m \u001b[0mvalues\u001b[0m\u001b[0;34m.\u001b[0m\u001b[0;34m\u001b[0m\u001b[0;34m\u001b[0m\u001b[0m\n\u001b[1;32m   1331\u001b[0m         \"\"\"\n\u001b[0;32m-> 1332\u001b[0;31m         \u001b[0mcheck_is_fitted\u001b[0m\u001b[0;34m(\u001b[0m\u001b[0mself\u001b[0m\u001b[0;34m)\u001b[0m\u001b[0;34m\u001b[0m\u001b[0;34m\u001b[0m\u001b[0m\n\u001b[0m\u001b[1;32m   1333\u001b[0m         \u001b[0my_pred\u001b[0m \u001b[0;34m=\u001b[0m \u001b[0mself\u001b[0m\u001b[0;34m.\u001b[0m\u001b[0m_predict\u001b[0m\u001b[0;34m(\u001b[0m\u001b[0mX\u001b[0m\u001b[0;34m)\u001b[0m\u001b[0;34m\u001b[0m\u001b[0;34m\u001b[0m\u001b[0m\n\u001b[1;32m   1334\u001b[0m         \u001b[0;32mif\u001b[0m \u001b[0my_pred\u001b[0m\u001b[0;34m.\u001b[0m\u001b[0mshape\u001b[0m\u001b[0;34m[\u001b[0m\u001b[0;36m1\u001b[0m\u001b[0;34m]\u001b[0m \u001b[0;34m==\u001b[0m \u001b[0;36m1\u001b[0m\u001b[0;34m:\u001b[0m\u001b[0;34m\u001b[0m\u001b[0;34m\u001b[0m\u001b[0m\n",
            "\u001b[0;32m/usr/local/lib/python3.6/dist-packages/sklearn/utils/validation.py\u001b[0m in \u001b[0;36mcheck_is_fitted\u001b[0;34m(estimator, attributes, msg, all_or_any)\u001b[0m\n\u001b[1;32m    965\u001b[0m \u001b[0;34m\u001b[0m\u001b[0m\n\u001b[1;32m    966\u001b[0m     \u001b[0;32mif\u001b[0m \u001b[0;32mnot\u001b[0m \u001b[0mattrs\u001b[0m\u001b[0;34m:\u001b[0m\u001b[0;34m\u001b[0m\u001b[0;34m\u001b[0m\u001b[0m\n\u001b[0;32m--> 967\u001b[0;31m         \u001b[0;32mraise\u001b[0m \u001b[0mNotFittedError\u001b[0m\u001b[0;34m(\u001b[0m\u001b[0mmsg\u001b[0m \u001b[0;34m%\u001b[0m \u001b[0;34m{\u001b[0m\u001b[0;34m'name'\u001b[0m\u001b[0;34m:\u001b[0m \u001b[0mtype\u001b[0m\u001b[0;34m(\u001b[0m\u001b[0mestimator\u001b[0m\u001b[0;34m)\u001b[0m\u001b[0;34m.\u001b[0m\u001b[0m__name__\u001b[0m\u001b[0;34m}\u001b[0m\u001b[0;34m)\u001b[0m\u001b[0;34m\u001b[0m\u001b[0;34m\u001b[0m\u001b[0m\n\u001b[0m\u001b[1;32m    968\u001b[0m \u001b[0;34m\u001b[0m\u001b[0m\n\u001b[1;32m    969\u001b[0m \u001b[0;34m\u001b[0m\u001b[0m\n",
            "\u001b[0;31mNotFittedError\u001b[0m: This MLPRegressor instance is not fitted yet. Call 'fit' with appropriate arguments before using this estimator."
          ]
        }
      ]
    },
    {
      "cell_type": "code",
      "metadata": {
        "id": "isdsG8ealmSW",
        "colab_type": "code",
        "colab": {
          "base_uri": "https://localhost:8080/",
          "height": 136
        },
        "outputId": "e41878a1-57ad-444f-d643-1f5d5153f191"
      },
      "source": [
        "preds"
      ],
      "execution_count": 338,
      "outputs": [
        {
          "output_type": "execute_result",
          "data": {
            "text/plain": [
              "array([[ 0.0070626 ],\n",
              "       [-0.02697434],\n",
              "       [ 0.00282706],\n",
              "       ...,\n",
              "       [ 0.0081666 ],\n",
              "       [ 0.02121495],\n",
              "       [ 0.0143771 ]], dtype=float32)"
            ]
          },
          "metadata": {
            "tags": []
          },
          "execution_count": 338
        }
      ]
    },
    {
      "cell_type": "code",
      "metadata": {
        "id": "6P9GZlr6I3cP",
        "colab_type": "code",
        "colab": {
          "base_uri": "https://localhost:8080/",
          "height": 592
        },
        "outputId": "a457db69-59f4-419b-d2a3-e300fa433f91"
      },
      "source": [
        "index = 0\n",
        "autoreg_pred = autoreg_preds_[:, index]\n",
        "opt_pred = preds[:, index] + state_action_test[:, index]\n",
        "opt_true = next_states_test[:, index] #+ state_action_test[:, index]\n",
        "\n",
        "good = np.divide(state_action_test[:, 2],state_action_test[:, 0])\n",
        "\n",
        "pred = preds[:, index]\n",
        "\n",
        "min_time = min(min(time_test), min(time_train))\n",
        "x = (time_test - min_time)/60.\n",
        "\n",
        "x_train = (time_train - min_time)/60.\n",
        "opt_train = state_action_train[:, index]\n",
        "\n",
        "fig, ax = plt.subplots(1, 1 , figsize=(20, 10))\n",
        "fig.patch.set_facecolor('#ffdf40')\n",
        "ax.set_facecolor(\"#ffdf40\")\n",
        "# ax.scatter(x[:-1][0:3], state_action_test[:-1, index][0:3], s=1, c='#00e3b6')\n",
        "# #ax.scatter(x[1:][0:3], next_states_test[:-1, index][0:3], s=1, c='k')\n",
        "# ax.scatter(x[1:][0:3], opt_true[:-1][0:3], s=1, c='k')\n",
        "# ax.scatter(x[1:][0:3], opt_pred[:-1][0:3], s=1, c='#cc3333')\n",
        "\n",
        "#ax.scatter(state_action_test[:, 0], state_action_test[:, 2], s=1, c='k')\n",
        "#ax.scatter(x, good, s=1, c='k')\n",
        "ax.scatter(x[:-1], state_action_test[:-1, index], s=1, c='k')\n",
        "# ax.scatter(x[1:][0:3], next_states_test[:-1, index][0:3], s=1, c='k')\n",
        "# ax.scatter(x[1:], opt_true[:-1], s=1, c='k')\n",
        "ax.scatter(x[1:], opt_pred[:-1], s=1, c='#cc3333')\n",
        "# ax.scatter(x[1:autoreg_limit], autoreg_pred, s=1, c='#00e3b6')\n",
        "\n",
        "\n",
        "\n",
        "#ax.plot(x_g, y_g, c='g')\n",
        "#plt.ylim(0.0, 1.0)\n",
        "#plt.xlim(45800, 48000)\n",
        "#plt.xlim(1500, 1595)\n",
        "#plt.xlim(910, 925)\n",
        "#plt.xlim(350, 375)\n",
        "plt.show()"
      ],
      "execution_count": 76,
      "outputs": [
        {
          "output_type": "display_data",
          "data": {
            "image/png": "[encoded data removed]",
            "text/plain": [
              "<Figure size 1440x720 with 1 Axes>"
            ]
          },
          "metadata": {
            "tags": []
          }
        }
      ]
    }
  ]
}